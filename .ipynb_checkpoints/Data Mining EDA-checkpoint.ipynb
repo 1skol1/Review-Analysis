{
 "cells": [
  {
   "cell_type": "code",
   "execution_count": 1,
   "metadata": {},
   "outputs": [],
   "source": [
    "import re \n",
    "import numpy as np\n",
    "import pandas as pd\n",
    "import csv\n",
    "import matplotlib.pyplot as plt\n",
    "from matplotlib.ticker import PercentFormatter\n",
    "import matplotlib.ticker as ticker\n",
    "import seaborn as sns"
   ]
  },
  {
   "cell_type": "code",
   "execution_count": 2,
   "metadata": {
    "scrolled": true
   },
   "outputs": [
    {
     "data": {
      "text/html": [
       "<div>\n",
       "<style scoped>\n",
       "    .dataframe tbody tr th:only-of-type {\n",
       "        vertical-align: middle;\n",
       "    }\n",
       "\n",
       "    .dataframe tbody tr th {\n",
       "        vertical-align: top;\n",
       "    }\n",
       "\n",
       "    .dataframe thead th {\n",
       "        text-align: right;\n",
       "    }\n",
       "</style>\n",
       "<table border=\"1\" class=\"dataframe\">\n",
       "  <thead>\n",
       "    <tr style=\"text-align: right;\">\n",
       "      <th></th>\n",
       "      <th>Product Name</th>\n",
       "      <th>Category</th>\n",
       "      <th>Product Info</th>\n",
       "      <th>Price</th>\n",
       "      <th>Overall Features</th>\n",
       "      <th>Category Features</th>\n",
       "      <th>Overall Ratings</th>\n",
       "      <th>Review</th>\n",
       "    </tr>\n",
       "  </thead>\n",
       "  <tbody>\n",
       "    <tr>\n",
       "      <th>0</th>\n",
       "      <td>Batch Data Collector</td>\n",
       "      <td>data mining software</td>\n",
       "      <td>{'About Product': 'Chrome extension designed t...</td>\n",
       "      <td>{'Starting Price': 'Not Available'}</td>\n",
       "      <td>{'Free Trial': ['Yes,get a free trial'], 'Depl...</td>\n",
       "      <td>{'Data Extraction': ['Disparate Data Collectio...</td>\n",
       "      <td>[{'Overall': '4.7/5'}, {'Ease of Use': '4.7/5'...</td>\n",
       "      <td>[[{'Fabio D.': ['Pedagogist', 'Education Manag...</td>\n",
       "    </tr>\n",
       "    <tr>\n",
       "      <th>1</th>\n",
       "      <td>SPSS</td>\n",
       "      <td>Data Mining Software</td>\n",
       "      <td>{'About Product': 'Your organization has more ...</td>\n",
       "      <td>{'Starting Price': '$99.00/month/user'}</td>\n",
       "      <td>{'Deployment': ['Installed - Windows'], 'Suppo...</td>\n",
       "      <td>{'Big Data': ['Collaboration', 'Data Mining', ...</td>\n",
       "      <td>[{'Overall': '4.4/5'}, {'Ease of Use': '4.5/5'...</td>\n",
       "      <td>[[{'Akshay A.': ['Social Media Manager', 'Inte...</td>\n",
       "    </tr>\n",
       "    <tr>\n",
       "      <th>2</th>\n",
       "      <td>Wolfram Mathematica</td>\n",
       "      <td>Data Mining Software</td>\n",
       "      <td>{'About Product': 'Technical computing system ...</td>\n",
       "      <td>{'Starting Price': 'Not Available'}</td>\n",
       "      <td>{'Deployment': ['Installed - Mac', 'Installed ...</td>\n",
       "      <td>{'Data Visualization': ['Analytics/Reporting',...</td>\n",
       "      <td>[{'Overall': '4.7/5'}, {'Ease of Use': '4.5/5'...</td>\n",
       "      <td>[[{'massimo f.': ['Assistant Professor', 'Unsp...</td>\n",
       "    </tr>\n",
       "    <tr>\n",
       "      <th>3</th>\n",
       "      <td>Octoparse</td>\n",
       "      <td>Data Mining Software</td>\n",
       "      <td>{'About Product': 'Octoparse is a modern visua...</td>\n",
       "      <td>{'Starting Price': 'Not Available'}</td>\n",
       "      <td>{'Free Trial': ['Yes'], 'Deployment': ['Instal...</td>\n",
       "      <td>{'Data Extraction': ['Disparate Data Collectio...</td>\n",
       "      <td>[{'Overall': '4.7/5'}, {'Ease of Use': '4.7/5'...</td>\n",
       "      <td>[[{'Andy J.': ['Manager', 'Commercial Real Est...</td>\n",
       "    </tr>\n",
       "    <tr>\n",
       "      <th>4</th>\n",
       "      <td>Mozenda</td>\n",
       "      <td>data mining software</td>\n",
       "      <td>{'About Product': '#1 Web Scraping Software an...</td>\n",
       "      <td>{'Starting Price': 'Not Available'}</td>\n",
       "      <td>{'Free Trial': ['Yes'], 'Deployment': ['Instal...</td>\n",
       "      <td>{'Data Extraction': ['Disparate Data Collectio...</td>\n",
       "      <td>[{'Overall': '4.7/5'}, {'Ease of Use': '4.7/5'...</td>\n",
       "      <td>[[{'Geoffrey L.': ['Nomad', 'Market Research, ...</td>\n",
       "    </tr>\n",
       "    <tr>\n",
       "      <th>5</th>\n",
       "      <td>RapidMiner</td>\n",
       "      <td>data mining software</td>\n",
       "      <td>{'About Product': 'Cloud-based data science pl...</td>\n",
       "      <td>{'Starting Price': 'Not Available'}</td>\n",
       "      <td>{'Deployment': ['Installed - Mac', 'Installed ...</td>\n",
       "      <td>{'Business Process Management': ['Access Contr...</td>\n",
       "      <td>[{'Overall': '4.4/5'}, {'Ease of Use': '4.5/5'...</td>\n",
       "      <td>[[{'Rashid C.': ['Teaching Assistant', 'Unspec...</td>\n",
       "    </tr>\n",
       "    <tr>\n",
       "      <th>6</th>\n",
       "      <td>SAS Enterprise Miner</td>\n",
       "      <td>data mining software</td>\n",
       "      <td>{'About Product': 'Data mining system that all...</td>\n",
       "      <td>{'Starting Price': 'Not Available'}</td>\n",
       "      <td>{'Deployment': ['Installed - Windows', 'Web-Ba...</td>\n",
       "      <td>{'Data Mining': ['Data Extraction', 'Data Visu...</td>\n",
       "      <td>[{'Overall': '4.6/5'}, {'Ease of Use': '4.5/5'...</td>\n",
       "      <td>[[{'Thomas Y.': ['Owner, previous CEO', 'Unspe...</td>\n",
       "    </tr>\n",
       "    <tr>\n",
       "      <th>7</th>\n",
       "      <td>Orange</td>\n",
       "      <td>data mining software</td>\n",
       "      <td>{'About Product': 'Open-source data visualizat...</td>\n",
       "      <td>{'Starting Price': 'Not Available'}</td>\n",
       "      <td>{'Deployment': ['Installed - Mac', 'Installed ...</td>\n",
       "      <td>{'Data Visualization': ['Analytics/Reporting',...</td>\n",
       "      <td>[{'Overall': '4.5/5'}, {'Ease of Use': '4.4/5'...</td>\n",
       "      <td>[[{'Olga B.': ['Edutainment Coach', 'Education...</td>\n",
       "    </tr>\n",
       "    <tr>\n",
       "      <th>8</th>\n",
       "      <td>Neural Designer</td>\n",
       "      <td>data mining software</td>\n",
       "      <td>{'About Product': 'Build your neural network p...</td>\n",
       "      <td>{'Starting Price': 'Not Available'}</td>\n",
       "      <td>{'Free Trial': ['Yes'], 'Deployment': ['Instal...</td>\n",
       "      <td>{'Data Analysis': ['Data Visualization', 'Pred...</td>\n",
       "      <td>[{'Overall': '4.5/5'}, {'Ease of Use': '4.7/5'...</td>\n",
       "      <td>[[{'Omondi P.': ['Associate Programs Coordinat...</td>\n",
       "    </tr>\n",
       "    <tr>\n",
       "      <th>9</th>\n",
       "      <td>Apteco FastStats</td>\n",
       "      <td>data mining software</td>\n",
       "      <td>{'About Product': 'ANALYSE - \n",
       "Apteco FastStats...</td>\n",
       "      <td>{'Starting Price': 'Not Available'}</td>\n",
       "      <td>{'Free Trial': ['Yes'], 'Deployment': ['Instal...</td>\n",
       "      <td>{'Business Intelligence': ['Ad Hoc Reports', '...</td>\n",
       "      <td>[{'Overall': '4.7/5'}, {'Ease of Use': '4.4/5'...</td>\n",
       "      <td>[[{'Cara C.': ['Project Manager', 'Events Serv...</td>\n",
       "    </tr>\n",
       "    <tr>\n",
       "      <th>10</th>\n",
       "      <td>uCrawler</td>\n",
       "      <td>data mining software</td>\n",
       "      <td>{'About Product': 'uCrawler automatically extr...</td>\n",
       "      <td>{'Starting Price': 'Not Available'}</td>\n",
       "      <td>{'Free Trial': ['Yes'], 'Deployment': ['Web-Ba...</td>\n",
       "      <td>{'Data Mining': ['Data Extraction', 'Data Visu...</td>\n",
       "      <td>[{'Overall': '4.6/5'}, {'Ease of Use': '4.5/5'...</td>\n",
       "      <td>[[{'Verified Reviewer': ['', 'Automotive, 10,0...</td>\n",
       "    </tr>\n",
       "    <tr>\n",
       "      <th>11</th>\n",
       "      <td>Oracle Data Mining</td>\n",
       "      <td>data mining software</td>\n",
       "      <td>{'About Product': 'Data mining app that provid...</td>\n",
       "      <td>{'Starting Price': 'Not Available'}</td>\n",
       "      <td>{}</td>\n",
       "      <td>{'Data Mining': ['Fraud Detection', 'Predictiv...</td>\n",
       "      <td>[{'Overall': '4.6/5'}, {'Ease of Use': '4.5/5'...</td>\n",
       "      <td>[[{'Shiva R.': ['Sr Director', 'Biotechnology,...</td>\n",
       "    </tr>\n",
       "    <tr>\n",
       "      <th>12</th>\n",
       "      <td>AlertMiner</td>\n",
       "      <td>data mining software</td>\n",
       "      <td>{'About Product': 'Tells you which customers a...</td>\n",
       "      <td>{'Starting Price': 'Not Available'}</td>\n",
       "      <td>{}</td>\n",
       "      <td>{}</td>\n",
       "      <td>[{'Overall': '4.6/5'}, {'Ease of Use': '4.5/5'...</td>\n",
       "      <td>[[{'Cole P.': ['Marketing Director', 'Automoti...</td>\n",
       "    </tr>\n",
       "    <tr>\n",
       "      <th>13</th>\n",
       "      <td>limestats</td>\n",
       "      <td>data mining software</td>\n",
       "      <td>{'About Product': 'Limestats is software that ...</td>\n",
       "      <td>{'Starting Price': 'Not Available'}</td>\n",
       "      <td>{'Deployment': ['Web-Based, Cloud, SaaS'], 'Tr...</td>\n",
       "      <td>{'Data Mining': ['Data Extraction', 'Data Visu...</td>\n",
       "      <td>[{'Overall': '4.6/5'}, {'Ease of Use': '4.5/5'...</td>\n",
       "      <td>[[{'Tom C.': ['Ecommerce Marketing', 'Health, ...</td>\n",
       "    </tr>\n",
       "    <tr>\n",
       "      <th>14</th>\n",
       "      <td>Pitchly</td>\n",
       "      <td>data mining software</td>\n",
       "      <td>{'About Product': 'Pitchly organizes and activ...</td>\n",
       "      <td>{'Starting Price': 'Not Available'}</td>\n",
       "      <td>{'Free Trial': ['Yes'], 'Deployment': ['Web-Ba...</td>\n",
       "      <td>{'Customer Data Platform': ['Data Integration'...</td>\n",
       "      <td>[{'Overall': '4.5/5'}, {'Ease of Use': '4.7/5'...</td>\n",
       "      <td>[[{'First Name N.': ['Associate', 'Investment ...</td>\n",
       "    </tr>\n",
       "    <tr>\n",
       "      <th>15</th>\n",
       "      <td>PolyAnalyst</td>\n",
       "      <td>data mining software</td>\n",
       "      <td>{'About Product': 'Megaputer Intelligence is a...</td>\n",
       "      <td>{'Starting Price': 'Not Available'}</td>\n",
       "      <td>{'Free Trial': ['Yes'], 'Deployment': ['Instal...</td>\n",
       "      <td>{'Statistical Analysis': ['Association Discove...</td>\n",
       "      <td>[{'Overall': '4.4/5'}, {'Ease of Use': '4.5/5'...</td>\n",
       "      <td>[[{'Lu Z.': ['Data analyst', 'Unspecified', 'U...</td>\n",
       "    </tr>\n",
       "  </tbody>\n",
       "</table>\n",
       "</div>"
      ],
      "text/plain": [
       "            Product Name               Category  \\\n",
       "0   Batch Data Collector  data mining software    \n",
       "1                   SPSS   Data Mining Software   \n",
       "2    Wolfram Mathematica   Data Mining Software   \n",
       "3              Octoparse   Data Mining Software   \n",
       "4                Mozenda  data mining software    \n",
       "5             RapidMiner  data mining software    \n",
       "6   SAS Enterprise Miner  data mining software    \n",
       "7                 Orange  data mining software    \n",
       "8        Neural Designer  data mining software    \n",
       "9       Apteco FastStats  data mining software    \n",
       "10              uCrawler  data mining software    \n",
       "11    Oracle Data Mining  data mining software    \n",
       "12            AlertMiner  data mining software    \n",
       "13             limestats  data mining software    \n",
       "14               Pitchly  data mining software    \n",
       "15           PolyAnalyst  data mining software    \n",
       "\n",
       "                                         Product Info  \\\n",
       "0   {'About Product': 'Chrome extension designed t...   \n",
       "1   {'About Product': 'Your organization has more ...   \n",
       "2   {'About Product': 'Technical computing system ...   \n",
       "3   {'About Product': 'Octoparse is a modern visua...   \n",
       "4   {'About Product': '#1 Web Scraping Software an...   \n",
       "5   {'About Product': 'Cloud-based data science pl...   \n",
       "6   {'About Product': 'Data mining system that all...   \n",
       "7   {'About Product': 'Open-source data visualizat...   \n",
       "8   {'About Product': 'Build your neural network p...   \n",
       "9   {'About Product': 'ANALYSE - \n",
       "Apteco FastStats...   \n",
       "10  {'About Product': 'uCrawler automatically extr...   \n",
       "11  {'About Product': 'Data mining app that provid...   \n",
       "12  {'About Product': 'Tells you which customers a...   \n",
       "13  {'About Product': 'Limestats is software that ...   \n",
       "14  {'About Product': 'Pitchly organizes and activ...   \n",
       "15  {'About Product': 'Megaputer Intelligence is a...   \n",
       "\n",
       "                                      Price  \\\n",
       "0       {'Starting Price': 'Not Available'}   \n",
       "1   {'Starting Price': '$99.00/month/user'}   \n",
       "2       {'Starting Price': 'Not Available'}   \n",
       "3       {'Starting Price': 'Not Available'}   \n",
       "4       {'Starting Price': 'Not Available'}   \n",
       "5       {'Starting Price': 'Not Available'}   \n",
       "6       {'Starting Price': 'Not Available'}   \n",
       "7       {'Starting Price': 'Not Available'}   \n",
       "8       {'Starting Price': 'Not Available'}   \n",
       "9       {'Starting Price': 'Not Available'}   \n",
       "10      {'Starting Price': 'Not Available'}   \n",
       "11      {'Starting Price': 'Not Available'}   \n",
       "12      {'Starting Price': 'Not Available'}   \n",
       "13      {'Starting Price': 'Not Available'}   \n",
       "14      {'Starting Price': 'Not Available'}   \n",
       "15      {'Starting Price': 'Not Available'}   \n",
       "\n",
       "                                     Overall Features  \\\n",
       "0   {'Free Trial': ['Yes,get a free trial'], 'Depl...   \n",
       "1   {'Deployment': ['Installed - Windows'], 'Suppo...   \n",
       "2   {'Deployment': ['Installed - Mac', 'Installed ...   \n",
       "3   {'Free Trial': ['Yes'], 'Deployment': ['Instal...   \n",
       "4   {'Free Trial': ['Yes'], 'Deployment': ['Instal...   \n",
       "5   {'Deployment': ['Installed - Mac', 'Installed ...   \n",
       "6   {'Deployment': ['Installed - Windows', 'Web-Ba...   \n",
       "7   {'Deployment': ['Installed - Mac', 'Installed ...   \n",
       "8   {'Free Trial': ['Yes'], 'Deployment': ['Instal...   \n",
       "9   {'Free Trial': ['Yes'], 'Deployment': ['Instal...   \n",
       "10  {'Free Trial': ['Yes'], 'Deployment': ['Web-Ba...   \n",
       "11                                                 {}   \n",
       "12                                                 {}   \n",
       "13  {'Deployment': ['Web-Based, Cloud, SaaS'], 'Tr...   \n",
       "14  {'Free Trial': ['Yes'], 'Deployment': ['Web-Ba...   \n",
       "15  {'Free Trial': ['Yes'], 'Deployment': ['Instal...   \n",
       "\n",
       "                                    Category Features  \\\n",
       "0   {'Data Extraction': ['Disparate Data Collectio...   \n",
       "1   {'Big Data': ['Collaboration', 'Data Mining', ...   \n",
       "2   {'Data Visualization': ['Analytics/Reporting',...   \n",
       "3   {'Data Extraction': ['Disparate Data Collectio...   \n",
       "4   {'Data Extraction': ['Disparate Data Collectio...   \n",
       "5   {'Business Process Management': ['Access Contr...   \n",
       "6   {'Data Mining': ['Data Extraction', 'Data Visu...   \n",
       "7   {'Data Visualization': ['Analytics/Reporting',...   \n",
       "8   {'Data Analysis': ['Data Visualization', 'Pred...   \n",
       "9   {'Business Intelligence': ['Ad Hoc Reports', '...   \n",
       "10  {'Data Mining': ['Data Extraction', 'Data Visu...   \n",
       "11  {'Data Mining': ['Fraud Detection', 'Predictiv...   \n",
       "12                                                 {}   \n",
       "13  {'Data Mining': ['Data Extraction', 'Data Visu...   \n",
       "14  {'Customer Data Platform': ['Data Integration'...   \n",
       "15  {'Statistical Analysis': ['Association Discove...   \n",
       "\n",
       "                                      Overall Ratings  \\\n",
       "0   [{'Overall': '4.7/5'}, {'Ease of Use': '4.7/5'...   \n",
       "1   [{'Overall': '4.4/5'}, {'Ease of Use': '4.5/5'...   \n",
       "2   [{'Overall': '4.7/5'}, {'Ease of Use': '4.5/5'...   \n",
       "3   [{'Overall': '4.7/5'}, {'Ease of Use': '4.7/5'...   \n",
       "4   [{'Overall': '4.7/5'}, {'Ease of Use': '4.7/5'...   \n",
       "5   [{'Overall': '4.4/5'}, {'Ease of Use': '4.5/5'...   \n",
       "6   [{'Overall': '4.6/5'}, {'Ease of Use': '4.5/5'...   \n",
       "7   [{'Overall': '4.5/5'}, {'Ease of Use': '4.4/5'...   \n",
       "8   [{'Overall': '4.5/5'}, {'Ease of Use': '4.7/5'...   \n",
       "9   [{'Overall': '4.7/5'}, {'Ease of Use': '4.4/5'...   \n",
       "10  [{'Overall': '4.6/5'}, {'Ease of Use': '4.5/5'...   \n",
       "11  [{'Overall': '4.6/5'}, {'Ease of Use': '4.5/5'...   \n",
       "12  [{'Overall': '4.6/5'}, {'Ease of Use': '4.5/5'...   \n",
       "13  [{'Overall': '4.6/5'}, {'Ease of Use': '4.5/5'...   \n",
       "14  [{'Overall': '4.5/5'}, {'Ease of Use': '4.7/5'...   \n",
       "15  [{'Overall': '4.4/5'}, {'Ease of Use': '4.5/5'...   \n",
       "\n",
       "                                               Review  \n",
       "0   [[{'Fabio D.': ['Pedagogist', 'Education Manag...  \n",
       "1   [[{'Akshay A.': ['Social Media Manager', 'Inte...  \n",
       "2   [[{'massimo f.': ['Assistant Professor', 'Unsp...  \n",
       "3   [[{'Andy J.': ['Manager', 'Commercial Real Est...  \n",
       "4   [[{'Geoffrey L.': ['Nomad', 'Market Research, ...  \n",
       "5   [[{'Rashid C.': ['Teaching Assistant', 'Unspec...  \n",
       "6   [[{'Thomas Y.': ['Owner, previous CEO', 'Unspe...  \n",
       "7   [[{'Olga B.': ['Edutainment Coach', 'Education...  \n",
       "8   [[{'Omondi P.': ['Associate Programs Coordinat...  \n",
       "9   [[{'Cara C.': ['Project Manager', 'Events Serv...  \n",
       "10  [[{'Verified Reviewer': ['', 'Automotive, 10,0...  \n",
       "11  [[{'Shiva R.': ['Sr Director', 'Biotechnology,...  \n",
       "12  [[{'Cole P.': ['Marketing Director', 'Automoti...  \n",
       "13  [[{'Tom C.': ['Ecommerce Marketing', 'Health, ...  \n",
       "14  [[{'First Name N.': ['Associate', 'Investment ...  \n",
       "15  [[{'Lu Z.': ['Data analyst', 'Unspecified', 'U...  "
      ]
     },
     "execution_count": 2,
     "metadata": {},
     "output_type": "execute_result"
    }
   ],
   "source": [
    "data_mining_csv_df = pd.read_csv('data_mining.csv',converters={'Product Info': eval,'Price': eval,'Overall Features': eval,'Category Features': eval,'Overall Ratings': eval,'Review': eval })\n",
    "data_mining_csv_df.rename({\"Unnamed: 0\":\"a\"}, axis=\"columns\", inplace=True)\n",
    "data_mining_csv_df.drop([\"a\"], axis=1, inplace=True)\n",
    "data_mining_csv_df"
   ]
  },
  {
   "cell_type": "code",
   "execution_count": 3,
   "metadata": {},
   "outputs": [],
   "source": [
    "\"\"\"Creating a new dataframe with all the review info and product name & category\"\"\"\n",
    "product_review = []\n",
    "for i in range(len(data_mining_csv_df)):\n",
    "    pro_name = data_mining_csv_df.iloc[i]['Product Name']\n",
    "    pro_cat = data_mining_csv_df.iloc[i]['Category']\n",
    "    pro_review = data_mining_csv_df.iloc[i]['Review']\n",
    "    for j in pro_review:\n",
    "        j.insert(0,pro_name)\n",
    "        j.insert(1,pro_cat)\n",
    "        product_review.append(j) "
   ]
  },
  {
   "cell_type": "code",
   "execution_count": 4,
   "metadata": {},
   "outputs": [],
   "source": [
    "product_review_df = pd.DataFrame(product_review, columns=['Product Name', 'Category', 'Reviewer Info','Reviewer Ratings','Date', 'Review'])"
   ]
  },
  {
   "cell_type": "code",
   "execution_count": 5,
   "metadata": {},
   "outputs": [],
   "source": [
    "product_review_df['Date'] = pd.to_datetime(product_review_df['Date'])"
   ]
  },
  {
   "cell_type": "code",
   "execution_count": 6,
   "metadata": {},
   "outputs": [
    {
     "name": "stdout",
     "output_type": "stream",
     "text": [
      "<class 'pandas.core.frame.DataFrame'>\n",
      "RangeIndex: 738 entries, 0 to 737\n",
      "Data columns (total 6 columns):\n",
      " #   Column            Non-Null Count  Dtype         \n",
      "---  ------            --------------  -----         \n",
      " 0   Product Name      738 non-null    object        \n",
      " 1   Category          738 non-null    object        \n",
      " 2   Reviewer Info     738 non-null    object        \n",
      " 3   Reviewer Ratings  738 non-null    object        \n",
      " 4   Date              738 non-null    datetime64[ns]\n",
      " 5   Review            738 non-null    object        \n",
      "dtypes: datetime64[ns](1), object(5)\n",
      "memory usage: 34.7+ KB\n"
     ]
    }
   ],
   "source": [
    "product_review_df.info()"
   ]
  },
  {
   "cell_type": "code",
   "execution_count": 7,
   "metadata": {},
   "outputs": [
    {
     "data": {
      "text/html": [
       "<div>\n",
       "<style scoped>\n",
       "    .dataframe tbody tr th:only-of-type {\n",
       "        vertical-align: middle;\n",
       "    }\n",
       "\n",
       "    .dataframe tbody tr th {\n",
       "        vertical-align: top;\n",
       "    }\n",
       "\n",
       "    .dataframe thead th {\n",
       "        text-align: right;\n",
       "    }\n",
       "</style>\n",
       "<table border=\"1\" class=\"dataframe\">\n",
       "  <thead>\n",
       "    <tr style=\"text-align: right;\">\n",
       "      <th></th>\n",
       "      <th>Product Name</th>\n",
       "      <th>Category</th>\n",
       "      <th>Reviewer Info</th>\n",
       "      <th>Reviewer Ratings</th>\n",
       "      <th>Date</th>\n",
       "      <th>Review</th>\n",
       "    </tr>\n",
       "  </thead>\n",
       "  <tbody>\n",
       "    <tr>\n",
       "      <th>0</th>\n",
       "      <td>Batch Data Collector</td>\n",
       "      <td>data mining software</td>\n",
       "      <td>{'Fabio D.': ['Pedagogist', 'Education Managem...</td>\n",
       "      <td>[{'Overall': '5/5'}, {'Ease of Use': '5/5'}, {...</td>\n",
       "      <td>2020-09-18</td>\n",
       "      <td>{'review heading': '“The best way to make \"res...</td>\n",
       "    </tr>\n",
       "    <tr>\n",
       "      <th>1</th>\n",
       "      <td>Batch Data Collector</td>\n",
       "      <td>data mining software</td>\n",
       "      <td>{'Alice S.': ['Employee', 'Non-Profit Organiza...</td>\n",
       "      <td>[{'Overall': '5/5'}, {'Ease of Use': '5/5'}, {...</td>\n",
       "      <td>2020-09-15</td>\n",
       "      <td>{'review heading': '“Very useful tool”', 'Pros...</td>\n",
       "    </tr>\n",
       "    <tr>\n",
       "      <th>2</th>\n",
       "      <td>SPSS</td>\n",
       "      <td>Data Mining Software</td>\n",
       "      <td>{'Akshay A.': ['Social Media Manager', 'Intern...</td>\n",
       "      <td>[{'Overall': '5/5'}, {'Ease of Use': '4/5'}, {...</td>\n",
       "      <td>2020-04-30</td>\n",
       "      <td>{'review heading': '“Gets You Results with a R...</td>\n",
       "    </tr>\n",
       "    <tr>\n",
       "      <th>3</th>\n",
       "      <td>SPSS</td>\n",
       "      <td>Data Mining Software</td>\n",
       "      <td>{'Scott R.': ['Professor/Psychologist', 'Highe...</td>\n",
       "      <td>[{'Overall': '5/5'}, {'Ease of Use': '4/5'}, {...</td>\n",
       "      <td>2020-08-17</td>\n",
       "      <td>{'review heading': '“The Best and The Rest”', ...</td>\n",
       "    </tr>\n",
       "    <tr>\n",
       "      <th>4</th>\n",
       "      <td>SPSS</td>\n",
       "      <td>Data Mining Software</td>\n",
       "      <td>{'Justine k.': ['public health researcher', 'H...</td>\n",
       "      <td>[{'Overall': '5/5'}, {'Ease of Use': '5/5'}, {...</td>\n",
       "      <td>2020-11-13</td>\n",
       "      <td>{'review heading': '“Best software for data an...</td>\n",
       "    </tr>\n",
       "    <tr>\n",
       "      <th>...</th>\n",
       "      <td>...</td>\n",
       "      <td>...</td>\n",
       "      <td>...</td>\n",
       "      <td>...</td>\n",
       "      <td>...</td>\n",
       "      <td>...</td>\n",
       "    </tr>\n",
       "    <tr>\n",
       "      <th>733</th>\n",
       "      <td>Oracle Data Mining</td>\n",
       "      <td>data mining software</td>\n",
       "      <td>{'Verified Reviewer': ['', 'Photography, Self-...</td>\n",
       "      <td>[{'Overall': '4/5'}, {'Ease of Use': '2/5'}, {...</td>\n",
       "      <td>2019-05-18</td>\n",
       "      <td>{'review heading': '“Helpful but not easy”', '...</td>\n",
       "    </tr>\n",
       "    <tr>\n",
       "      <th>734</th>\n",
       "      <td>AlertMiner</td>\n",
       "      <td>data mining software</td>\n",
       "      <td>{'Cole P.': ['Marketing Director', 'Automotive...</td>\n",
       "      <td>[{'Overall': '5/5'}, {'Ease of Use': '5/5'}, {...</td>\n",
       "      <td>2020-07-07</td>\n",
       "      <td>{'review heading': '“Automating Automotive Dat...</td>\n",
       "    </tr>\n",
       "    <tr>\n",
       "      <th>735</th>\n",
       "      <td>limestats</td>\n",
       "      <td>data mining software</td>\n",
       "      <td>{'Tom C.': ['Ecommerce Marketing', 'Health, We...</td>\n",
       "      <td>[{'Overall': '5/5'}, {'Ease of Use': '5/5'}, {...</td>\n",
       "      <td>2018-08-30</td>\n",
       "      <td>{'review heading': '“Great product ”', 'Pros':...</td>\n",
       "    </tr>\n",
       "    <tr>\n",
       "      <th>736</th>\n",
       "      <td>Pitchly</td>\n",
       "      <td>data mining software</td>\n",
       "      <td>{'First Name N.': ['Associate', 'Investment Ba...</td>\n",
       "      <td>[{'Overall': '5/5'}, {'Ease of Use': '5/5'}, {...</td>\n",
       "      <td>2019-04-12</td>\n",
       "      <td>{'review heading': '“Investment Banking - Expe...</td>\n",
       "    </tr>\n",
       "    <tr>\n",
       "      <th>737</th>\n",
       "      <td>PolyAnalyst</td>\n",
       "      <td>data mining software</td>\n",
       "      <td>{'Lu Z.': ['Data analyst', 'Unspecified', 'Use...</td>\n",
       "      <td>[{'Overall': '4/5'}, {'Ease of Use': '5/5'}, {...</td>\n",
       "      <td>2018-04-19</td>\n",
       "      <td>{'review heading': '“I used it for almost two ...</td>\n",
       "    </tr>\n",
       "  </tbody>\n",
       "</table>\n",
       "<p>738 rows × 6 columns</p>\n",
       "</div>"
      ],
      "text/plain": [
       "             Product Name               Category  \\\n",
       "0    Batch Data Collector  data mining software    \n",
       "1    Batch Data Collector  data mining software    \n",
       "2                    SPSS   Data Mining Software   \n",
       "3                    SPSS   Data Mining Software   \n",
       "4                    SPSS   Data Mining Software   \n",
       "..                    ...                    ...   \n",
       "733    Oracle Data Mining  data mining software    \n",
       "734            AlertMiner  data mining software    \n",
       "735             limestats  data mining software    \n",
       "736               Pitchly  data mining software    \n",
       "737           PolyAnalyst  data mining software    \n",
       "\n",
       "                                         Reviewer Info  \\\n",
       "0    {'Fabio D.': ['Pedagogist', 'Education Managem...   \n",
       "1    {'Alice S.': ['Employee', 'Non-Profit Organiza...   \n",
       "2    {'Akshay A.': ['Social Media Manager', 'Intern...   \n",
       "3    {'Scott R.': ['Professor/Psychologist', 'Highe...   \n",
       "4    {'Justine k.': ['public health researcher', 'H...   \n",
       "..                                                 ...   \n",
       "733  {'Verified Reviewer': ['', 'Photography, Self-...   \n",
       "734  {'Cole P.': ['Marketing Director', 'Automotive...   \n",
       "735  {'Tom C.': ['Ecommerce Marketing', 'Health, We...   \n",
       "736  {'First Name N.': ['Associate', 'Investment Ba...   \n",
       "737  {'Lu Z.': ['Data analyst', 'Unspecified', 'Use...   \n",
       "\n",
       "                                      Reviewer Ratings       Date  \\\n",
       "0    [{'Overall': '5/5'}, {'Ease of Use': '5/5'}, {... 2020-09-18   \n",
       "1    [{'Overall': '5/5'}, {'Ease of Use': '5/5'}, {... 2020-09-15   \n",
       "2    [{'Overall': '5/5'}, {'Ease of Use': '4/5'}, {... 2020-04-30   \n",
       "3    [{'Overall': '5/5'}, {'Ease of Use': '4/5'}, {... 2020-08-17   \n",
       "4    [{'Overall': '5/5'}, {'Ease of Use': '5/5'}, {... 2020-11-13   \n",
       "..                                                 ...        ...   \n",
       "733  [{'Overall': '4/5'}, {'Ease of Use': '2/5'}, {... 2019-05-18   \n",
       "734  [{'Overall': '5/5'}, {'Ease of Use': '5/5'}, {... 2020-07-07   \n",
       "735  [{'Overall': '5/5'}, {'Ease of Use': '5/5'}, {... 2018-08-30   \n",
       "736  [{'Overall': '5/5'}, {'Ease of Use': '5/5'}, {... 2019-04-12   \n",
       "737  [{'Overall': '4/5'}, {'Ease of Use': '5/5'}, {... 2018-04-19   \n",
       "\n",
       "                                                Review  \n",
       "0    {'review heading': '“The best way to make \"res...  \n",
       "1    {'review heading': '“Very useful tool”', 'Pros...  \n",
       "2    {'review heading': '“Gets You Results with a R...  \n",
       "3    {'review heading': '“The Best and The Rest”', ...  \n",
       "4    {'review heading': '“Best software for data an...  \n",
       "..                                                 ...  \n",
       "733  {'review heading': '“Helpful but not easy”', '...  \n",
       "734  {'review heading': '“Automating Automotive Dat...  \n",
       "735  {'review heading': '“Great product ”', 'Pros':...  \n",
       "736  {'review heading': '“Investment Banking - Expe...  \n",
       "737  {'review heading': '“I used it for almost two ...  \n",
       "\n",
       "[738 rows x 6 columns]"
      ]
     },
     "execution_count": 7,
     "metadata": {},
     "output_type": "execute_result"
    }
   ],
   "source": [
    "product_review_df"
   ]
  },
  {
   "cell_type": "markdown",
   "metadata": {},
   "source": [
    "# Plotting the number of reviews per product"
   ]
  },
  {
   "cell_type": "code",
   "execution_count": 8,
   "metadata": {},
   "outputs": [
    {
     "data": {
      "image/png": "[encoded data removed]",
      "text/plain": [
       "<Figure size 1080x576 with 1 Axes>"
      ]
     },
     "metadata": {
      "needs_background": "light"
     },
     "output_type": "display_data"
    }
   ],
   "source": [
    "df1= product_review_df.groupby('Product Name')['Review'].count()\n",
    "ax1 = df1.plot(kind=\"bar\",color='firebrick', alpha=0.7, linewidth=20,figsize=(15,8))\n",
    "rects = ax1.patches\n",
    "\n",
    "# Make some labels.\n",
    "labels = [i for i in df1]\n",
    "for rect, label in zip(rects, labels):\n",
    "    height = rect.get_height()\n",
    "    ax1.text(rect.get_x() + rect.get_width() / 2, height + 5, label,\n",
    "            ha='center', va='bottom')\n",
    "plt.xticks( rotation=60, horizontalalignment='right', fontsize=12)\n",
    "ax1.set( ylabel='Number of Reviews', title=\"Review Distribution in Data Mining Category\")\n",
    "plt.show()"
   ]
  },
  {
   "cell_type": "markdown",
   "metadata": {},
   "source": [
    "# Plotting the number of reviews before and after Covid-19"
   ]
  },
  {
   "cell_type": "code",
   "execution_count": 9,
   "metadata": {},
   "outputs": [],
   "source": [
    "startdate = \"2020-03-01\"\n",
    "startdate = pd.to_datetime(startdate)\n"
   ]
  },
  {
   "cell_type": "code",
   "execution_count": 10,
   "metadata": {},
   "outputs": [
    {
     "data": {
      "image/png": "[encoded data removed]",
      "text/plain": [
       "<Figure size 432x288 with 1 Axes>"
      ]
     },
     "metadata": {},
     "output_type": "display_data"
    }
   ],
   "source": [
    "df2 = product_review_df.groupby(product_review_df[\"Date\"] < startdate  )['Review'].count()\n",
    "explode = (0, 0.1)  # for a took out slice effect\n",
    "labels = ['After Covid-19','Before Covid-19']\n",
    "fig2, ax2 = plt.subplots()\n",
    "ax2.pie(df2, explode=explode, labels=labels, autopct='%1.1f%%',\n",
    "        shadow=True, startangle=90)\n",
    "ax2.axis('equal') \n",
    "plt.show()"
   ]
  },
  {
   "cell_type": "markdown",
   "metadata": {},
   "source": [
    "# Review distribution overtime"
   ]
  },
  {
   "cell_type": "code",
   "execution_count": 14,
   "metadata": {},
   "outputs": [
    {
     "data": {
      "text/plain": [
       "array([[<AxesSubplot:title={'center':'Date'}>]], dtype=object)"
      ]
     },
     "execution_count": 14,
     "metadata": {},
     "output_type": "execute_result"
    },
    {
     "data": {
      "image/png": "[encoded data removed]",
      "text/plain": [
       "<Figure size 432x288 with 1 Axes>"
      ]
     },
     "metadata": {
      "needs_background": "light"
     },
     "output_type": "display_data"
    }
   ],
   "source": [
    "product_review_df.hist()"
   ]
  },
  {
   "cell_type": "markdown",
   "metadata": {},
   "source": [
    "# Plotting the number of reviews before and after Covid-19 for SPSS"
   ]
  },
  {
   "cell_type": "code",
   "execution_count": 15,
   "metadata": {},
   "outputs": [],
   "source": [
    "df3 = product_review_df.query('`Product Name`.str.startswith(\"SPSS\")')"
   ]
  },
  {
   "cell_type": "code",
   "execution_count": 16,
   "metadata": {},
   "outputs": [],
   "source": [
    "df3 = df3.groupby(df3[\"Date\"] < startdate  )['Review'].count()"
   ]
  },
  {
   "cell_type": "code",
   "execution_count": 17,
   "metadata": {},
   "outputs": [
    {
     "data": {
      "image/png": "[encoded data removed]",
      "text/plain": [
       "<Figure size 432x288 with 1 Axes>"
      ]
     },
     "metadata": {},
     "output_type": "display_data"
    }
   ],
   "source": [
    "explode1 = (0, 0.1)  \n",
    "labels1 = ['After Covid-19','Before Covid-19']\n",
    "fig3, ax3 = plt.subplots()\n",
    "ax3.pie(df3, explode=explode1, labels=labels1, autopct='%1.1f%%',\n",
    "        shadow=True, startangle=90)\n",
    "ax3.axis('equal') \n",
    "plt.show()"
   ]
  },
  {
   "cell_type": "markdown",
   "metadata": {},
   "source": [
    "# Plotting the number of reviews before and after Covid-19 for Wolfram Mathematica"
   ]
  },
  {
   "cell_type": "code",
   "execution_count": 18,
   "metadata": {},
   "outputs": [],
   "source": [
    "df4 = product_review_df.query('`Product Name`.str.startswith(\"Wolfram Mathematica\")')"
   ]
  },
  {
   "cell_type": "code",
   "execution_count": 19,
   "metadata": {},
   "outputs": [],
   "source": [
    "df4 = df4.groupby(df4[\"Date\"] < startdate  )['Review'].count()"
   ]
  },
  {
   "cell_type": "code",
   "execution_count": 20,
   "metadata": {},
   "outputs": [
    {
     "data": {
      "image/png": "[encoded data removed]",
      "text/plain": [
       "<Figure size 432x288 with 1 Axes>"
      ]
     },
     "metadata": {},
     "output_type": "display_data"
    }
   ],
   "source": [
    "explode2 = (0, 0.1)  \n",
    "labels2 = ['After Covid-19','Before Covid-19']\n",
    "fig4, ax4 = plt.subplots()\n",
    "ax4.pie(df4, explode=explode2, labels=labels2, autopct='%1.1f%%',\n",
    "        shadow=True, startangle=90)\n",
    "ax4.axis('equal') \n",
    "plt.show()"
   ]
  },
  {
   "cell_type": "markdown",
   "metadata": {},
   "source": [
    "# Plotting the number of reviews before and after Covid-19 for Octoparse"
   ]
  },
  {
   "cell_type": "code",
   "execution_count": 21,
   "metadata": {},
   "outputs": [],
   "source": [
    "df5 = product_review_df.query('`Product Name`.str.startswith(\"Octoparse\")')"
   ]
  },
  {
   "cell_type": "code",
   "execution_count": 22,
   "metadata": {},
   "outputs": [],
   "source": [
    "df5 = df5.groupby(df5[\"Date\"] < startdate  )['Review'].count()"
   ]
  },
  {
   "cell_type": "code",
   "execution_count": 23,
   "metadata": {},
   "outputs": [
    {
     "data": {
      "image/png": "[encoded data removed]",
      "text/plain": [
       "<Figure size 432x288 with 1 Axes>"
      ]
     },
     "metadata": {},
     "output_type": "display_data"
    }
   ],
   "source": [
    "explode3 = (0, 0.1)  \n",
    "labels3 = ['After Covid-19','Before Covid-19']\n",
    "fig5, ax5 = plt.subplots()\n",
    "ax5.pie(df5, explode=explode3, labels=labels3, autopct='%1.1f%%',\n",
    "        shadow=True, startangle=90)\n",
    "ax5.axis('equal') \n",
    "plt.show()"
   ]
  },
  {
   "cell_type": "markdown",
   "metadata": {},
   "source": [
    "# Plotting all the ratings of top three products "
   ]
  },
  {
   "cell_type": "markdown",
   "metadata": {},
   "source": [
    "Plotting for SPSS"
   ]
  },
  {
   "cell_type": "code",
   "execution_count": 24,
   "metadata": {
    "scrolled": false
   },
   "outputs": [],
   "source": [
    "df6 = product_review_df.query('`Product Name`.str.startswith(\"SPSS\")')\n",
    "list1 = []\n",
    "for i in df6['Reviewer Ratings']:\n",
    "    over_all = i[0]\n",
    "    for k,v in over_all.items():\n",
    "        list1.append(int(v.split('/')[0]))"
   ]
  },
  {
   "cell_type": "code",
   "execution_count": 25,
   "metadata": {},
   "outputs": [
    {
     "data": {
      "image/png": "[encoded data removed]",
      "text/plain": [
       "<Figure size 432x288 with 1 Axes>"
      ]
     },
     "metadata": {
      "needs_background": "light"
     },
     "output_type": "display_data"
    }
   ],
   "source": [
    "fig6, ax6 = plt.subplots()\n",
    "ax6.hist(list1, density=False, bins=30) \n",
    "ax6.yaxis.set_major_formatter(ticker.PercentFormatter(xmax=len(list1)))\n",
    "plt.ylabel('Percentage of No. Reviews')\n",
    "plt.xlabel('Rating')\n",
    "plt.show()"
   ]
  },
  {
   "cell_type": "markdown",
   "metadata": {},
   "source": [
    "Plotting for Wolfram Mathematica"
   ]
  },
  {
   "cell_type": "code",
   "execution_count": 26,
   "metadata": {},
   "outputs": [],
   "source": [
    "df7 = product_review_df.query('`Product Name`.str.startswith(\"Wolfram Mathematica\")')\n",
    "list2 = []\n",
    "for i in df7['Reviewer Ratings']:\n",
    "    over_all = i[0]\n",
    "    for k,v in over_all.items():\n",
    "        list2.append(int(v.split('/')[0]))"
   ]
  },
  {
   "cell_type": "code",
   "execution_count": 27,
   "metadata": {},
   "outputs": [
    {
     "data": {
      "image/png": "[encoded data removed]",
      "text/plain": [
       "<Figure size 432x288 with 1 Axes>"
      ]
     },
     "metadata": {
      "needs_background": "light"
     },
     "output_type": "display_data"
    }
   ],
   "source": [
    "fig7, ax7 = plt.subplots()\n",
    "ax7.hist(list2, density=False, bins=30) \n",
    "ax7.yaxis.set_major_formatter(ticker.PercentFormatter(xmax=len(list2)))\n",
    "plt.ylabel('Percentage of No. Reviews')\n",
    "plt.xlabel('Rating')\n",
    "plt.show()"
   ]
  },
  {
   "cell_type": "markdown",
   "metadata": {},
   "source": [
    "Plotting for Octoparse"
   ]
  },
  {
   "cell_type": "code",
   "execution_count": 28,
   "metadata": {},
   "outputs": [],
   "source": [
    "df8 = product_review_df.query('`Product Name`.str.startswith(\"Octoparse\")')\n",
    "list3 = []\n",
    "for i in df8['Reviewer Ratings']:\n",
    "    over_all = i[0]\n",
    "    for k,v in over_all.items():\n",
    "        list3.append(int(v.split('/')[0]))"
   ]
  },
  {
   "cell_type": "code",
   "execution_count": 29,
   "metadata": {},
   "outputs": [
    {
     "data": {
      "image/png": "[encoded data removed]",
      "text/plain": [
       "<Figure size 432x288 with 1 Axes>"
      ]
     },
     "metadata": {
      "needs_background": "light"
     },
     "output_type": "display_data"
    }
   ],
   "source": [
    "fig8, ax8 = plt.subplots()\n",
    "ax8.hist(list3, density=False, bins=30) \n",
    "ax8.yaxis.set_major_formatter(ticker.PercentFormatter(xmax=len(list3)))\n",
    "plt.ylabel('Percentage of No. Reviews')\n",
    "plt.xlabel('Rating')\n",
    "plt.show()"
   ]
  },
  {
   "cell_type": "markdown",
   "metadata": {},
   "source": [
    "# Plotting the percent of 5 & 4 star reviews before & after Covid-19 for SPSS"
   ]
  },
  {
   "cell_type": "code",
   "execution_count": 30,
   "metadata": {},
   "outputs": [],
   "source": [
    "df9 = product_review_df.query('`Product Name`.str.startswith(\"SPSS\")')\n",
    "dfgbo = df9.groupby(df9[\"Date\"] < startdate  )"
   ]
  },
  {
   "cell_type": "code",
   "execution_count": 31,
   "metadata": {},
   "outputs": [],
   "source": [
    "dfgbodf= dfgbo.get_group(False)"
   ]
  },
  {
   "cell_type": "code",
   "execution_count": 32,
   "metadata": {},
   "outputs": [],
   "source": [
    "list4 = []\n",
    "for i in dfgbodf['Reviewer Ratings']:\n",
    "    over_all = i[0]\n",
    "    for k,v in over_all.items():\n",
    "        list4.append(int(v.split('/')[0]))"
   ]
  },
  {
   "cell_type": "markdown",
   "metadata": {},
   "source": [
    "Plot for before Covid-19"
   ]
  },
  {
   "cell_type": "code",
   "execution_count": 33,
   "metadata": {},
   "outputs": [
    {
     "data": {
      "image/png": "[encoded data removed]",
      "text/plain": [
       "<Figure size 432x288 with 1 Axes>"
      ]
     },
     "metadata": {
      "needs_background": "light"
     },
     "output_type": "display_data"
    }
   ],
   "source": [
    "fig9, ax9 = plt.subplots()\n",
    "ax9.hist(list4, density=False, bins=30) \n",
    "ax9.yaxis.set_major_formatter(ticker.PercentFormatter(xmax=len(list4)))\n",
    "plt.ylabel('Percentage of No. Reviews')\n",
    "plt.xlabel('Rating')\n",
    "plt.show()"
   ]
  },
  {
   "cell_type": "code",
   "execution_count": 34,
   "metadata": {},
   "outputs": [],
   "source": [
    "dfgbodf2= dfgbo.get_group(True)\n",
    "list5 = []\n",
    "for i in dfgbodf2['Reviewer Ratings']:\n",
    "    over_all = i[0]\n",
    "    for k,v in over_all.items():\n",
    "        list5.append(int(v.split('/')[0]))"
   ]
  },
  {
   "cell_type": "markdown",
   "metadata": {},
   "source": [
    "Plot for after Covid-19"
   ]
  },
  {
   "cell_type": "code",
   "execution_count": 35,
   "metadata": {},
   "outputs": [
    {
     "data": {
      "image/png": "[encoded data removed]",
      "text/plain": [
       "<Figure size 432x288 with 1 Axes>"
      ]
     },
     "metadata": {
      "needs_background": "light"
     },
     "output_type": "display_data"
    }
   ],
   "source": [
    "fig10, ax10 = plt.subplots()\n",
    "ax10.hist(list5, density=False, bins=30) \n",
    "ax10.yaxis.set_major_formatter(ticker.PercentFormatter(xmax=len(list5)))\n",
    "plt.ylabel('Percentage of No. Reviews')\n",
    "plt.xlabel('Rating')\n",
    "plt.show()"
   ]
  }
 ],
 "metadata": {
  "kernelspec": {
   "display_name": "Python 3",
   "language": "python",
   "name": "python3"
  },
  "language_info": {
   "codemirror_mode": {
    "name": "ipython",
    "version": 3
   },
   "file_extension": ".py",
   "mimetype": "text/x-python",
   "name": "python",
   "nbconvert_exporter": "python",
   "pygments_lexer": "ipython3",
   "version": "3.8.5"
  }
 },
 "nbformat": 4,
 "nbformat_minor": 4
}
