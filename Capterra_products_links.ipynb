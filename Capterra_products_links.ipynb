{
 "cells": [
  {
   "cell_type": "code",
   "execution_count": 1,
   "metadata": {},
   "outputs": [],
   "source": [
    "from selenium import webdriver \n",
    "from bs4 import BeautifulSoup\n",
    "  \n",
    "  \n",
    "driver = webdriver.Chrome('D:\\Downloads\\Desktop\\chromedriver') \n",
    "driver.get(\"https://www.capterra.com/data-mining-software/\") "
   ]
  },
  {
   "cell_type": "code",
   "execution_count": 4,
   "metadata": {},
   "outputs": [],
   "source": [
    "link = driver.find_element_by_xpath('//*[@id=\"root\"]/div/div[2]/div/div[3]/div/div[2]/div[1]/div[2]/div/div[1]/div[4]/div[2]/div/a')\n"
   ]
  },
  {
   "cell_type": "code",
   "execution_count": 10,
   "metadata": {},
   "outputs": [
    {
     "name": "stdout",
     "output_type": "stream",
     "text": [
      "https://www.capterra.com/p/13990/SPSS/\n"
     ]
    }
   ],
   "source": [
    "print(link.get_attribute('href'))"
   ]
  },
  {
   "cell_type": "code",
   "execution_count": 8,
   "metadata": {},
   "outputs": [],
   "source": [
    "driver.find_element_by_xpath('//*[@id=\"root\"]/div/div[2]/div/div[3]/div/div[2]/div[1]/div[26]/div/div/button').click()"
   ]
  },
  {
   "cell_type": "code",
   "execution_count": 9,
   "metadata": {},
   "outputs": [],
   "source": [
    "soup = BeautifulSoup(driver.page_source,\"lxml\" )"
   ]
  },
  {
   "cell_type": "code",
   "execution_count": 10,
   "metadata": {},
   "outputs": [],
   "source": [
    "name = soup.find_all('div',{'class':'ProductCard__Root-sc-1aqkmbf-0 eiRAVe'})"
   ]
  },
  {
   "cell_type": "code",
   "execution_count": 11,
   "metadata": {},
   "outputs": [
    {
     "data": {
      "text/plain": [
       "34"
      ]
     },
     "execution_count": 11,
     "metadata": {},
     "output_type": "execute_result"
    }
   ],
   "source": [
    "len(name)"
   ]
  },
  {
   "cell_type": "code",
   "execution_count": 22,
   "metadata": {},
   "outputs": [
    {
     "name": "stdout",
     "output_type": "stream",
     "text": [
      "Batch Data Collector  By Batch Data Collector www.capterra.com/p/209952/Batch-Data-Collector/#reviews\n",
      "SPSS By IBM www.capterra.com/p/13990/SPSS/\n",
      "Wolfram Mathematica  By Wolfram www.capterra.com/p/171048/Wolfram-Mathematica/\n",
      "Octoparse  By Octopus Data www.capterra.com/p/150508/Octoparse/\n",
      "Mozenda  By Mozenda www.capterra.com/p/102193/Mozenda/\n",
      "RapidMiner  By RapidMiner www.capterra.com/p/148220/RapidMiner/\n",
      "SAS Enterprise Miner By SAS Institute www.capterra.com/p/157071/SAS-Enterprise-Miner/\n",
      "Orange  By University of Ljubljana www.capterra.com/p/164505/Orange/\n",
      "Neural Designer  By Artelnics www.capterra.com/p/156274/Neural-Designer/\n",
      "Apteco FastStats By Apteco www.capterra.com/p/101009/FastStats/\n",
      "uCrawler  By uCrawler www.capterra.com/p/186866/uCrawler/\n",
      "Oracle Data Mining By Oracle www.capterra.com/p/169949/Oracle-Data-Mining/\n",
      "AlertMiner  By AutoAlert www.capterra.com/p/197068/AlertMiner/\n",
      "limestats  By limestats www.capterra.com/p/178789/limestats/\n",
      "Pitchly  By Pitchly www.capterra.com/p/151099/Pitchly/\n",
      "PolyAnalyst  By Megaputer Intelligence www.capterra.com/p/125821/PolyAnalyst/\n",
      "Coheris Analytics SPAD  By Coheris www.capterra.com/p/171508/Coheris-Analytics-SPAD/\n",
      "Data.Mining.Fox  By Easy.Data.Mining www.capterra.com/p/171506/Data-Mining-Fox/\n",
      "eccenca Corporate Memory  By eccenca www.capterra.com/p/190219/eccenca-Corporate-Memory/\n",
      "EntelliFusion  By Teksouth www.capterra.com/p/207622/EntelliFusion/\n",
      "ExportData  By ZIKU TECH www.capterra.com/p/189877/ExportData/\n",
      "FS.net  By Symbrium www.capterra.com/p/183884/FS-net/\n",
      "Keel  By Keel www.capterra.com/p/171507/Keel/\n",
      "Ketrium  By Ketrium www.capterra.com/p/187439/Ketrium/\n",
      "Optymyze  By Optymyze www.capterra.com/p/137148/Optymyze/\n",
      "Piperr  By Saturam www.capterra.com/p/183888/Piperr/\n",
      "PoolParty  By Semantic Web Company www.capterra.com/p/171504/PoolParty/\n",
      "Repustate  By Repustate www.capterra.com/p/201539/Repustate/\n",
      "Salford Predictive Modeler  By Salford Systems www.capterra.com/p/169966/SPM-8-2/\n",
      "Seeq  By Seeq Corporation www.capterra.com/p/171687/Seeq/\n",
      "Semantria  By Lexalytics www.capterra.com/p/151930/Semantria/\n",
      "SyncSpider  By SyncSpider www.capterra.com/p/211760/SyncSpider/\n",
      "Text Analytics Platform  By SetuServ www.capterra.com/p/211552/Text-Analytics-Platform/\n",
      "XLMiner  By Frontline Systems www.capterra.com/p/151767/XLMiner/\n"
     ]
    }
   ],
   "source": [
    "for i in name:\n",
    "    product_name = i.find('span').get_text()\n",
    "    company_name = i.find('h3',{'class':'VendorNameContainer__VendorHeading-sc-1ns38vc-0 klpzVA Heading-y0oiys-2 kdQRDY'}).get_text()\n",
    "    url_to_capterra_page = \"www.capterra.com\" + str(i.find('a',{'target':'_self'}).get('href'))\n",
    "    print(product_name,company_name,url_to_capterra_page)"
   ]
  },
  {
   "cell_type": "code",
   "execution_count": 3,
   "metadata": {},
   "outputs": [],
   "source": [
    "from selenium import webdriver \n",
    "from bs4 import BeautifulSoup\n",
    "  \n",
    "  \n",
    "driver = webdriver.Chrome('D:\\Downloads\\Desktop\\chromedriver')\n",
    "driver.get(\"https://www.capterra.com/data-analysis-software/\") "
   ]
  },
  {
   "cell_type": "code",
   "execution_count": 5,
   "metadata": {},
   "outputs": [
    {
     "ename": "NoSuchElementException",
     "evalue": "Message: no such element: Unable to locate element: {\"method\":\"xpath\",\"selector\":\"//*[@id=\"root\"]/div/div[2]/div/div[3]/div/div[2]/div[1]/div[26]/div/div/button\"}\n  (Session info: chrome=87.0.4280.88)\n",
     "output_type": "error",
     "traceback": [
      "\u001b[1;31m---------------------------------------------------------------------------\u001b[0m",
      "\u001b[1;31mNoSuchElementException\u001b[0m                    Traceback (most recent call last)",
      "\u001b[1;32m<ipython-input-5-7499458aede9>\u001b[0m in \u001b[0;36m<module>\u001b[1;34m()\u001b[0m\n\u001b[1;32m----> 1\u001b[1;33m \u001b[0mdriver\u001b[0m\u001b[1;33m.\u001b[0m\u001b[0mfind_element_by_xpath\u001b[0m\u001b[1;33m(\u001b[0m\u001b[1;34m'//*[@id=\"root\"]/div/div[2]/div/div[3]/div/div[2]/div[1]/div[26]/div/div/button'\u001b[0m\u001b[1;33m)\u001b[0m\u001b[1;33m.\u001b[0m\u001b[0mclick\u001b[0m\u001b[1;33m(\u001b[0m\u001b[1;33m)\u001b[0m\u001b[1;33m\u001b[0m\u001b[1;33m\u001b[0m\u001b[0m\n\u001b[0m",
      "\u001b[1;32mC:\\Users\\Dabu bahya\\miniconda3\\envs\\tf\\lib\\site-packages\\selenium\\webdriver\\remote\\webdriver.py\u001b[0m in \u001b[0;36mfind_element_by_xpath\u001b[1;34m(self, xpath)\u001b[0m\n\u001b[0;32m    392\u001b[0m             \u001b[0melement\u001b[0m \u001b[1;33m=\u001b[0m \u001b[0mdriver\u001b[0m\u001b[1;33m.\u001b[0m\u001b[0mfind_element_by_xpath\u001b[0m\u001b[1;33m(\u001b[0m\u001b[1;34m'//div/td[1]'\u001b[0m\u001b[1;33m)\u001b[0m\u001b[1;33m\u001b[0m\u001b[1;33m\u001b[0m\u001b[0m\n\u001b[0;32m    393\u001b[0m         \"\"\"\n\u001b[1;32m--> 394\u001b[1;33m         \u001b[1;32mreturn\u001b[0m \u001b[0mself\u001b[0m\u001b[1;33m.\u001b[0m\u001b[0mfind_element\u001b[0m\u001b[1;33m(\u001b[0m\u001b[0mby\u001b[0m\u001b[1;33m=\u001b[0m\u001b[0mBy\u001b[0m\u001b[1;33m.\u001b[0m\u001b[0mXPATH\u001b[0m\u001b[1;33m,\u001b[0m \u001b[0mvalue\u001b[0m\u001b[1;33m=\u001b[0m\u001b[0mxpath\u001b[0m\u001b[1;33m)\u001b[0m\u001b[1;33m\u001b[0m\u001b[1;33m\u001b[0m\u001b[0m\n\u001b[0m\u001b[0;32m    395\u001b[0m \u001b[1;33m\u001b[0m\u001b[0m\n\u001b[0;32m    396\u001b[0m     \u001b[1;32mdef\u001b[0m \u001b[0mfind_elements_by_xpath\u001b[0m\u001b[1;33m(\u001b[0m\u001b[0mself\u001b[0m\u001b[1;33m,\u001b[0m \u001b[0mxpath\u001b[0m\u001b[1;33m)\u001b[0m\u001b[1;33m:\u001b[0m\u001b[1;33m\u001b[0m\u001b[1;33m\u001b[0m\u001b[0m\n",
      "\u001b[1;32mC:\\Users\\Dabu bahya\\miniconda3\\envs\\tf\\lib\\site-packages\\selenium\\webdriver\\remote\\webdriver.py\u001b[0m in \u001b[0;36mfind_element\u001b[1;34m(self, by, value)\u001b[0m\n\u001b[0;32m    976\u001b[0m         return self.execute(Command.FIND_ELEMENT, {\n\u001b[0;32m    977\u001b[0m             \u001b[1;34m'using'\u001b[0m\u001b[1;33m:\u001b[0m \u001b[0mby\u001b[0m\u001b[1;33m,\u001b[0m\u001b[1;33m\u001b[0m\u001b[1;33m\u001b[0m\u001b[0m\n\u001b[1;32m--> 978\u001b[1;33m             'value': value})['value']\n\u001b[0m\u001b[0;32m    979\u001b[0m \u001b[1;33m\u001b[0m\u001b[0m\n\u001b[0;32m    980\u001b[0m     \u001b[1;32mdef\u001b[0m \u001b[0mfind_elements\u001b[0m\u001b[1;33m(\u001b[0m\u001b[0mself\u001b[0m\u001b[1;33m,\u001b[0m \u001b[0mby\u001b[0m\u001b[1;33m=\u001b[0m\u001b[0mBy\u001b[0m\u001b[1;33m.\u001b[0m\u001b[0mID\u001b[0m\u001b[1;33m,\u001b[0m \u001b[0mvalue\u001b[0m\u001b[1;33m=\u001b[0m\u001b[1;32mNone\u001b[0m\u001b[1;33m)\u001b[0m\u001b[1;33m:\u001b[0m\u001b[1;33m\u001b[0m\u001b[1;33m\u001b[0m\u001b[0m\n",
      "\u001b[1;32mC:\\Users\\Dabu bahya\\miniconda3\\envs\\tf\\lib\\site-packages\\selenium\\webdriver\\remote\\webdriver.py\u001b[0m in \u001b[0;36mexecute\u001b[1;34m(self, driver_command, params)\u001b[0m\n\u001b[0;32m    319\u001b[0m         \u001b[0mresponse\u001b[0m \u001b[1;33m=\u001b[0m \u001b[0mself\u001b[0m\u001b[1;33m.\u001b[0m\u001b[0mcommand_executor\u001b[0m\u001b[1;33m.\u001b[0m\u001b[0mexecute\u001b[0m\u001b[1;33m(\u001b[0m\u001b[0mdriver_command\u001b[0m\u001b[1;33m,\u001b[0m \u001b[0mparams\u001b[0m\u001b[1;33m)\u001b[0m\u001b[1;33m\u001b[0m\u001b[1;33m\u001b[0m\u001b[0m\n\u001b[0;32m    320\u001b[0m         \u001b[1;32mif\u001b[0m \u001b[0mresponse\u001b[0m\u001b[1;33m:\u001b[0m\u001b[1;33m\u001b[0m\u001b[1;33m\u001b[0m\u001b[0m\n\u001b[1;32m--> 321\u001b[1;33m             \u001b[0mself\u001b[0m\u001b[1;33m.\u001b[0m\u001b[0merror_handler\u001b[0m\u001b[1;33m.\u001b[0m\u001b[0mcheck_response\u001b[0m\u001b[1;33m(\u001b[0m\u001b[0mresponse\u001b[0m\u001b[1;33m)\u001b[0m\u001b[1;33m\u001b[0m\u001b[1;33m\u001b[0m\u001b[0m\n\u001b[0m\u001b[0;32m    322\u001b[0m             response['value'] = self._unwrap_value(\n\u001b[0;32m    323\u001b[0m                 response.get('value', None))\n",
      "\u001b[1;32mC:\\Users\\Dabu bahya\\miniconda3\\envs\\tf\\lib\\site-packages\\selenium\\webdriver\\remote\\errorhandler.py\u001b[0m in \u001b[0;36mcheck_response\u001b[1;34m(self, response)\u001b[0m\n\u001b[0;32m    240\u001b[0m                 \u001b[0malert_text\u001b[0m \u001b[1;33m=\u001b[0m \u001b[0mvalue\u001b[0m\u001b[1;33m[\u001b[0m\u001b[1;34m'alert'\u001b[0m\u001b[1;33m]\u001b[0m\u001b[1;33m.\u001b[0m\u001b[0mget\u001b[0m\u001b[1;33m(\u001b[0m\u001b[1;34m'text'\u001b[0m\u001b[1;33m)\u001b[0m\u001b[1;33m\u001b[0m\u001b[1;33m\u001b[0m\u001b[0m\n\u001b[0;32m    241\u001b[0m             \u001b[1;32mraise\u001b[0m \u001b[0mexception_class\u001b[0m\u001b[1;33m(\u001b[0m\u001b[0mmessage\u001b[0m\u001b[1;33m,\u001b[0m \u001b[0mscreen\u001b[0m\u001b[1;33m,\u001b[0m \u001b[0mstacktrace\u001b[0m\u001b[1;33m,\u001b[0m \u001b[0malert_text\u001b[0m\u001b[1;33m)\u001b[0m\u001b[1;33m\u001b[0m\u001b[1;33m\u001b[0m\u001b[0m\n\u001b[1;32m--> 242\u001b[1;33m         \u001b[1;32mraise\u001b[0m \u001b[0mexception_class\u001b[0m\u001b[1;33m(\u001b[0m\u001b[0mmessage\u001b[0m\u001b[1;33m,\u001b[0m \u001b[0mscreen\u001b[0m\u001b[1;33m,\u001b[0m \u001b[0mstacktrace\u001b[0m\u001b[1;33m)\u001b[0m\u001b[1;33m\u001b[0m\u001b[1;33m\u001b[0m\u001b[0m\n\u001b[0m\u001b[0;32m    243\u001b[0m \u001b[1;33m\u001b[0m\u001b[0m\n\u001b[0;32m    244\u001b[0m     \u001b[1;32mdef\u001b[0m \u001b[0m_value_or_default\u001b[0m\u001b[1;33m(\u001b[0m\u001b[0mself\u001b[0m\u001b[1;33m,\u001b[0m \u001b[0mobj\u001b[0m\u001b[1;33m,\u001b[0m \u001b[0mkey\u001b[0m\u001b[1;33m,\u001b[0m \u001b[0mdefault\u001b[0m\u001b[1;33m)\u001b[0m\u001b[1;33m:\u001b[0m\u001b[1;33m\u001b[0m\u001b[1;33m\u001b[0m\u001b[0m\n",
      "\u001b[1;31mNoSuchElementException\u001b[0m: Message: no such element: Unable to locate element: {\"method\":\"xpath\",\"selector\":\"//*[@id=\"root\"]/div/div[2]/div/div[3]/div/div[2]/div[1]/div[26]/div/div/button\"}\n  (Session info: chrome=87.0.4280.88)\n"
     ]
    }
   ],
   "source": [
    "driver.find_element_by_xpath('//*[@id=\"root\"]/div/div[2]/div/div[3]/div/div[2]/div[1]/div[26]/div/div/button').click()"
   ]
  },
  {
   "cell_type": "code",
   "execution_count": 6,
   "metadata": {},
   "outputs": [],
   "source": [
    "soup = BeautifulSoup(driver.page_source,\"lxml\" )"
   ]
  },
  {
   "cell_type": "code",
   "execution_count": 7,
   "metadata": {},
   "outputs": [],
   "source": [
    "name = soup.find_all('div',{'class':'ProductCard__Root-sc-1aqkmbf-0 eiRAVe'})"
   ]
  },
  {
   "cell_type": "code",
   "execution_count": 8,
   "metadata": {},
   "outputs": [
    {
     "name": "stdout",
     "output_type": "stream",
     "text": [
      "Spider Impact  By Spider Strategies www.capterra.com/p/113352/Scoreboard/reviews/\n",
      "Zoho Analytics  By Zoho www.capterra.com/p/129749/Zoho-Analytics/reviews/\n",
      "Cluvio  By Cluvio www.capterra.com/p/162332/Cluvio/reviews/\n",
      "Hexowatch  By Hexact www.capterra.com/p/206900/Hexowatch/reviews/\n",
      "Minitab Statistical Software  By Minitab www.capterra.com/p/109731/Minitab-Statistical-Software/reviews/\n",
      "Tableau  By Tableau www.capterra.com/p/202665/Tableau/\n",
      "Power BI By Microsoft www.capterra.com/p/176586/Power-BI/\n",
      "XLSTAT  By Addinsoft www.capterra.com/p/119448/XLSTAT/\n",
      "ibi By ibi www.capterra.com/p/118/WebFOCUS/\n",
      "Stata  By StataCorp www.capterra.com/p/119880/Stata/\n",
      "Wolfram Mathematica  By Wolfram www.capterra.com/p/171048/Wolfram-Mathematica/\n",
      "Mixpanel  By Mixpanel www.capterra.com/p/158740/Mixpanel/\n",
      "SAS/STAT By SAS Institute www.capterra.com/p/121765/SAS-Statistics/\n",
      "Holistics  By Holistics Software www.capterra.com/p/153101/Holistics/\n",
      "MicroStrategy Enterprise Analytics By MicroStrategy www.capterra.com/p/120/MicroStrategy-9/\n",
      "MIPAR  By MIPAR www.capterra.com/p/181408/MIPAR/\n",
      "NVivo  By QSR International www.capterra.com/p/171501/NVivo/\n",
      "FactoryTalk InnovationSuite  By Rockwell Automation www.capterra.com/p/9590/FactoryTalk/\n",
      "ATLAS.ti  By Scientific Software Development www.capterra.com/p/171500/ATLAS-ti/\n",
      "IDEA  By CaseWare International www.capterra.com/p/129838/IDEA/\n",
      "Kyubit Business Intelligence  By Kyubit Solutions www.capterra.com/p/146822/Kyubit-Business-Intelligence/\n",
      "UpMetrics  By UpMetrics www.capterra.com/p/213916/UpMetrics/\n",
      "DataPlay  By Margasoft www.capterra.com/p/149233/DataPlay/\n",
      "GoodData  By GoodData www.capterra.com/p/123828/GoodData/\n",
      "Neural Designer  By Artelnics www.capterra.com/p/156274/Neural-Designer/\n",
      "Putler  By Putler www.capterra.com/p/179100/Putler/\n",
      "Fortay  By Fortay www.capterra.com/p/156363/Fortay/\n",
      "Tercept Unified Analytics  By Tercept www.capterra.com/p/178284/Tercept/\n",
      "Databricks  By Databricks www.capterra.com/p/148499/Databricks/\n",
      "NCSS  By NCSS www.capterra.com/p/186840/NCSS/\n",
      "Igor Pro  By WaveMetrics www.capterra.com/p/171503/Igor-Pro-7/\n",
      "MarketSight  By MarketSight www.capterra.com/p/119243/Survey-Analysis-Software/\n",
      "Apteco FastStats By Apteco www.capterra.com/p/101009/FastStats/\n",
      "InfoZoom  By SoftLake Solutions www.capterra.com/p/157623/InfoZoom/\n",
      "Veera Predict  By Rapid Insight www.capterra.com/p/133097/Rapid-Insight-Analytics/\n",
      "EnsoSleep  By EnsoData www.capterra.com/p/206262/Ensosleep/\n",
      "QueryStorm  By Stormy Range Software www.capterra.com/p/177415/QueryStorm/\n",
      "Striim  By Striim www.capterra.com/p/173369/Striim/\n",
      "Serenytics  By Serenytics www.capterra.com/p/203670/Serenytics/\n",
      "iLab Core Facility Management  By Agilent Technologies www.capterra.com/p/162118/iLab-Core-Facility-Management/\n",
      "Analytics2Insights  By Modernising Management www.capterra.com/p/183143/Analytics2Insights/\n",
      "Compass  By Compass www.capterra.com/p/151919/Compass/\n",
      "Enhencer  By Gauss Statistical Solutions www.capterra.com/p/172841/Enhencer/\n",
      "Qubole  By Qubole www.capterra.com/p/181706/Qubole/\n",
      "Stormly  By Stormly www.capterra.com/p/208495/Stormly/\n",
      "MonkeyLearn  By MonkeyLearn www.capterra.com/p/166580/MonkeyLearn/\n",
      "YouGov  By YouGov www.capterra.com/p/184816/YouGov/\n",
      "Oncrawl  By OnCrawl www.capterra.com/p/187401/Oncrawl/\n",
      "Analyttica TreasureHunt Precision  By Analyttica www.capterra.com/p/192060/ATH-Precision/\n",
      "Arcadia Enterprise  By Arcadia Data www.capterra.com/p/171318/Arcadia-Enterprise/\n"
     ]
    }
   ],
   "source": [
    "for i in name:\n",
    "    product_name = i.find('span').get_text()\n",
    "    company_name = i.find('h3',{'class':'VendorNameContainer__VendorHeading-sc-1ns38vc-0 klpzVA Heading-y0oiys-2 kdQRDY'}).get_text()\n",
    "    url_to_capterra_page = \"www.capterra.com\" + str(i.find('a',{'target':'_self'}).get('href'))\n",
    "    print(product_name,company_name,url_to_capterra_page)"
   ]
  },
  {
   "cell_type": "code",
   "execution_count": 9,
   "metadata": {},
   "outputs": [],
   "source": [
    "driver.close() "
   ]
  },
  {
   "cell_type": "code",
   "execution_count": null,
   "metadata": {},
   "outputs": [],
   "source": []
  },
  {
   "cell_type": "code",
   "execution_count": null,
   "metadata": {},
   "outputs": [],
   "source": []
  }
 ],
 "metadata": {
  "kernelspec": {
   "display_name": "Python 3",
   "language": "python",
   "name": "python3"
  },
  "language_info": {
   "codemirror_mode": {
    "name": "ipython",
    "version": 3
   },
   "file_extension": ".py",
   "mimetype": "text/x-python",
   "name": "python",
   "nbconvert_exporter": "python",
   "pygments_lexer": "ipython3",
   "version": "3.7.9"
  }
 },
 "nbformat": 4,
 "nbformat_minor": 4
}
